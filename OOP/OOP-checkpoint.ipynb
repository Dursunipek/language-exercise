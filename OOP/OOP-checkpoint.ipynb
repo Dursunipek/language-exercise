{
 "cells": [
  {
   "cell_type": "markdown",
   "id": "3977d4dc",
   "metadata": {},
   "source": [
    "# Veri Bilim İçin Python"
   ]
  },
  {
   "cell_type": "markdown",
   "id": "fa116f76",
   "metadata": {},
   "source": [
    "# OOP"
   ]
  },
  {
   "cell_type": "markdown",
   "id": "5557cc7e",
   "metadata": {},
   "source": [
    "# İnstance & Attribute"
   ]
  },
  {
   "cell_type": "code",
   "execution_count": 86,
   "id": "7353b757",
   "metadata": {},
   "outputs": [],
   "source": [
    "class SuperHero():\n",
    "    def __init__(self,name,age,job,specialPower=''):\n",
    "        print('İnit Çağırıldı')\n",
    "        self.name = name\n",
    "        self.age = age\n",
    "        self.job = job\n",
    "        self.specialPower= specialPower\n",
    "    def newmethod(self):\n",
    "        print(\"I'am a super hero.\")"
   ]
  },
  {
   "cell_type": "code",
   "execution_count": 87,
   "id": "f716457b",
   "metadata": {},
   "outputs": [
    {
     "name": "stdout",
     "output_type": "stream",
     "text": [
      "İnit Çağırıldı\n"
     ]
    }
   ],
   "source": [
    "batman = SuperHero('batman',28,'CEO')"
   ]
  },
  {
   "cell_type": "code",
   "execution_count": 88,
   "id": "da9d761d",
   "metadata": {},
   "outputs": [
    {
     "data": {
      "text/plain": [
       "'batman'"
      ]
     },
     "execution_count": 88,
     "metadata": {},
     "output_type": "execute_result"
    }
   ],
   "source": [
    "batman.name"
   ]
  },
  {
   "cell_type": "code",
   "execution_count": 89,
   "id": "de347c71",
   "metadata": {},
   "outputs": [
    {
     "data": {
      "text/plain": [
       "28"
      ]
     },
     "execution_count": 89,
     "metadata": {},
     "output_type": "execute_result"
    }
   ],
   "source": [
    "batman.age"
   ]
  },
  {
   "cell_type": "code",
   "execution_count": 90,
   "id": "98aa9fc7",
   "metadata": {},
   "outputs": [
    {
     "data": {
      "text/plain": [
       "'CEO'"
      ]
     },
     "execution_count": 90,
     "metadata": {},
     "output_type": "execute_result"
    }
   ],
   "source": [
    "batman.job"
   ]
  },
  {
   "cell_type": "code",
   "execution_count": 91,
   "id": "7d99b6df",
   "metadata": {},
   "outputs": [
    {
     "data": {
      "text/plain": [
       "''"
      ]
     },
     "execution_count": 91,
     "metadata": {},
     "output_type": "execute_result"
    }
   ],
   "source": [
    "batman.specialPower"
   ]
  },
  {
   "cell_type": "code",
   "execution_count": 92,
   "id": "942de35b",
   "metadata": {},
   "outputs": [],
   "source": [
    "batman.specialPower = 'Zengin'"
   ]
  },
  {
   "cell_type": "code",
   "execution_count": 93,
   "id": "67ed840e",
   "metadata": {
    "scrolled": true
   },
   "outputs": [
    {
     "data": {
      "text/plain": [
       "'Zengin'"
      ]
     },
     "execution_count": 93,
     "metadata": {},
     "output_type": "execute_result"
    }
   ],
   "source": [
    "batman.specialPower"
   ]
  },
  {
   "cell_type": "code",
   "execution_count": 94,
   "id": "ca184a79",
   "metadata": {
    "scrolled": true
   },
   "outputs": [
    {
     "name": "stdout",
     "output_type": "stream",
     "text": [
      "I'am a super hero.\n"
     ]
    }
   ],
   "source": [
    "batman.newmethod()"
   ]
  },
  {
   "cell_type": "markdown",
   "id": "03b5762b",
   "metadata": {},
   "source": [
    "# İNHERİTANCE(miras almak)"
   ]
  },
  {
   "cell_type": "code",
   "execution_count": 95,
   "id": "40cb8474",
   "metadata": {},
   "outputs": [],
   "source": [
    "class Animal():\n",
    "    def __init__(self,leg,eye,ear):\n",
    "        self.leg = leg\n",
    "        self.eye = eye\n",
    "        self.ear = ear\n",
    "        print('Created animal class')\n",
    "    def method1(self):\n",
    "        print(\"Method 1 called with Animal class\")"
   ]
  },
  {
   "cell_type": "code",
   "execution_count": 96,
   "id": "fa4b5d74",
   "metadata": {},
   "outputs": [],
   "source": [
    "class Dog(Animal):\n",
    "    def __init__(self,leg,eye,ear):\n",
    "        Animal.__init__(self,leg,eye,ear)"
   ]
  },
  {
   "cell_type": "code",
   "execution_count": 97,
   "id": "fa47f4c6",
   "metadata": {},
   "outputs": [
    {
     "name": "stdout",
     "output_type": "stream",
     "text": [
      "Created animal class\n"
     ]
    }
   ],
   "source": [
    "dog = Dog(4,2,2)"
   ]
  },
  {
   "cell_type": "code",
   "execution_count": 98,
   "id": "45431df0",
   "metadata": {},
   "outputs": [
    {
     "name": "stdout",
     "output_type": "stream",
     "text": [
      "Method 1 called with Animal class\n"
     ]
    }
   ],
   "source": [
    "dog.method1()"
   ]
  },
  {
   "cell_type": "code",
   "execution_count": 99,
   "id": "554b0657",
   "metadata": {},
   "outputs": [],
   "source": [
    "class Dog(Animal):\n",
    "    def __init__(self,leg,eye,ear):\n",
    "        Animal.__init__(self,leg,eye,ear)\n",
    "    def method1(self):\n",
    "        print(\"Method 1 created with Dog class\")"
   ]
  },
  {
   "cell_type": "code",
   "execution_count": 100,
   "id": "572f5011",
   "metadata": {},
   "outputs": [
    {
     "name": "stdout",
     "output_type": "stream",
     "text": [
      "Created animal class\n",
      "Method 1 created with Dog class\n"
     ]
    }
   ],
   "source": [
    "dog = Dog(4,2,2)\n",
    "dog.method1()##Override"
   ]
  },
  {
   "cell_type": "markdown",
   "id": "31c4c69b",
   "metadata": {},
   "source": [
    "# POLYMORPHİSM"
   ]
  },
  {
   "cell_type": "code",
   "execution_count": 101,
   "id": "31409b91",
   "metadata": {},
   "outputs": [],
   "source": [
    "## Aynı isimde method ve fonksiyonların farklı amaca hizmet edebilmesi"
   ]
  },
  {
   "cell_type": "code",
   "execution_count": 102,
   "id": "15f3d5df",
   "metadata": {},
   "outputs": [],
   "source": [
    "class Apple():\n",
    "    def __init__(self,name):\n",
    "        self.name = name\n",
    "    def giveİnfo(self):\n",
    "        return self.name + \" 100 kaloridir\""
   ]
  },
  {
   "cell_type": "code",
   "execution_count": 103,
   "id": "39e8d8be",
   "metadata": {},
   "outputs": [],
   "source": [
    "class Banana():\n",
    "    def __init__(self,name):\n",
    "        self.name = name\n",
    "    def giveİnfo(self):\n",
    "        return self.name + \" 155 kaloridir\""
   ]
  },
  {
   "cell_type": "code",
   "execution_count": 104,
   "id": "140a7f3c",
   "metadata": {},
   "outputs": [
    {
     "data": {
      "text/plain": [
       "'Apple 100 kaloridir'"
      ]
     },
     "execution_count": 104,
     "metadata": {},
     "output_type": "execute_result"
    }
   ],
   "source": [
    "apple = Apple('Apple')\n",
    "apple.giveİnfo()"
   ]
  },
  {
   "cell_type": "code",
   "execution_count": 105,
   "id": "3a2e691c",
   "metadata": {},
   "outputs": [
    {
     "data": {
      "text/plain": [
       "'Banana 155 kaloridir'"
      ]
     },
     "execution_count": 105,
     "metadata": {},
     "output_type": "execute_result"
    }
   ],
   "source": [
    "banana = Banana('Banana')\n",
    "banana.giveİnfo()"
   ]
  },
  {
   "cell_type": "code",
   "execution_count": 106,
   "id": "d124db45",
   "metadata": {},
   "outputs": [],
   "source": [
    "liste = [apple,banana]"
   ]
  },
  {
   "cell_type": "code",
   "execution_count": 107,
   "id": "e9ed5721",
   "metadata": {},
   "outputs": [
    {
     "name": "stdout",
     "output_type": "stream",
     "text": [
      "[<__main__.Apple object at 0x0000020AF514F790>, <__main__.Banana object at 0x0000020AF56C40A0>]\n"
     ]
    }
   ],
   "source": [
    "print(liste)"
   ]
  },
  {
   "cell_type": "code",
   "execution_count": 108,
   "id": "1835b3d8",
   "metadata": {},
   "outputs": [
    {
     "name": "stdout",
     "output_type": "stream",
     "text": [
      "Apple 100 kaloridir\n",
      "Banana 155 kaloridir\n"
     ]
    }
   ],
   "source": [
    "for i in liste:\n",
    "    print(i.giveİnfo())"
   ]
  },
  {
   "cell_type": "markdown",
   "id": "7e85a61b",
   "metadata": {},
   "source": [
    "# Try & Except & else  & finally"
   ]
  },
  {
   "cell_type": "code",
   "execution_count": 109,
   "id": "bfe17264",
   "metadata": {},
   "outputs": [
    {
     "name": "stdout",
     "output_type": "stream",
     "text": [
      "Enter the numberd\n",
      "Please enter the integer\n",
      "Finally called.\n",
      "Enter the numberasda\n",
      "Please enter the integer\n",
      "Finally called.\n",
      "Enter the numberas\n",
      "Please enter the integer\n",
      "Finally called.\n",
      "Enter the number15\n",
      "Thanks\n",
      "Finally called.\n"
     ]
    }
   ],
   "source": [
    "while True:\n",
    "    try:\n",
    "        number = int(input('Enter the number'))\n",
    "    except:\n",
    "        print('Please enter the integer')\n",
    "        continue\n",
    "    else:\n",
    "        print('Thanks')\n",
    "        break\n",
    "    finally:\n",
    "        print('Finally called.')"
   ]
  },
  {
   "cell_type": "code",
   "execution_count": 110,
   "id": "31619962",
   "metadata": {},
   "outputs": [],
   "source": [
    "## Else try her doğru çalıştığında çağrılacak\n",
    "## Except hata aldıgımızda continue ile döngüyü atlayıp basa döndurecek\n",
    "## Finally hangi işlem yapılırsa yapılsın calisacak"
   ]
  },
  {
   "cell_type": "code",
   "execution_count": null,
   "id": "a4e6531e",
   "metadata": {},
   "outputs": [],
   "source": []
  }
 ],
 "metadata": {
  "kernelspec": {
   "display_name": "Python 3 (ipykernel)",
   "language": "python",
   "name": "python3"
  },
  "language_info": {
   "codemirror_mode": {
    "name": "ipython",
    "version": 3
   },
   "file_extension": ".py",
   "mimetype": "text/x-python",
   "name": "python",
   "nbconvert_exporter": "python",
   "pygments_lexer": "ipython3",
   "version": "3.9.7"
  }
 },
 "nbformat": 4,
 "nbformat_minor": 5
}
